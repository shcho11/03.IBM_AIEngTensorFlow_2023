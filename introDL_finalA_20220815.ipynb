{
  "nbformat": 4,
  "nbformat_minor": 0,
  "metadata": {
    "colab": {
      "name": "introDL_finalA_20220815.ipynb",
      "provenance": [],
      "collapsed_sections": [],
      "authorship_tag": "ABX9TyODcWDKKVTeFf02kb8VS3GZ",
      "include_colab_link": true
    },
    "kernelspec": {
      "name": "python3",
      "display_name": "Python 3"
    },
    "language_info": {
      "name": "python"
    }
  },
  "cells": [
    {
      "cell_type": "markdown",
      "metadata": {
        "id": "view-in-github",
        "colab_type": "text"
      },
      "source": [
        "<a href=\"https://colab.research.google.com/github/shcho11/03.IBM_AI_Engineering_2022/blob/main/introDL_finalA_20220815.ipynb\" target=\"_parent\"><img src=\"https://colab.research.google.com/assets/colab-badge.svg\" alt=\"Open In Colab\"/></a>"
      ]
    },
    {
      "cell_type": "markdown",
      "source": [
        "## Introduction to Deep Learning & Neural Networks with Keras - Final Assignment A\n",
        "\n",
        "### A. Build a baseline model (5 marks) \n",
        "\n",
        "Use the Keras library to build a neural network with the following:\n",
        "\n",
        "- One hidden layer of 10 nodes, and a ReLU activation function\n",
        "\n",
        "- Use the adam optimizer and the mean squared error  as the loss function.\n",
        "\n",
        "1. Randomly split the data into a training and test sets by holding 30% of the data for testing. You can use the train_test_splithelper function from Scikit-learn.\n",
        "\n",
        "2. Train the model on the training data using 50 epochs.\n",
        "\n",
        "3. Evaluate the model on the test data and compute the mean squared error between the predicted concrete strength and the actual concrete strength. You can use the mean_squared_error function from Scikit-learn.\n",
        "\n",
        "4. Repeat steps 1 - 3, 50 times, i.e., create a list of 50 mean squared errors.\n",
        "\n",
        "5. Report the mean and the standard deviation of the mean squared errors."
      ],
      "metadata": {
        "id": "DDC0_8s58HGM"
      }
    },
    {
      "cell_type": "code",
      "execution_count": 1,
      "metadata": {
        "colab": {
          "base_uri": "https://localhost:8080/"
        },
        "id": "gzKiA8t7l0ie",
        "outputId": "554f1a66-d565-4b42-e584-e019a85ef73e"
      },
      "outputs": [
        {
          "output_type": "stream",
          "name": "stdout",
          "text": [
            "Drive already mounted at /content/drive/; to attempt to forcibly remount, call drive.mount(\"/content/drive/\", force_remount=True).\n"
          ]
        }
      ],
      "source": [
        "from google.colab import drive\n",
        "drive.mount('/content/drive/')"
      ]
    },
    {
      "cell_type": "code",
      "source": [
        "#!pip install numpy==1.21.4\n",
        "#!pip install pandas==1.3.4\n",
        "#!pip install keras==2.1.6"
      ],
      "metadata": {
        "id": "6jzhaUlKmWrO"
      },
      "execution_count": 2,
      "outputs": []
    },
    {
      "cell_type": "code",
      "source": [
        "import pandas as pd\n",
        "import numpy as np\n",
        "import keras\n",
        "from tensorflow.keras.models import Sequential\n",
        "#from keras.models import Sequential\n",
        "from keras.layers import Dense"
      ],
      "metadata": {
        "id": "X3cMM1irmmsZ"
      },
      "execution_count": 3,
      "outputs": []
    },
    {
      "cell_type": "markdown",
      "source": [
        "We will be playing around with the same dataset that we used in the videos.\n",
        "\n",
        "<strong>The dataset is about the compressive strength of different samples of concrete based on the volumes of the different ingredients that were used to make them. Ingredients include:</strong>\n",
        "\n",
        "<strong>1. Cement</strong>\n",
        "\n",
        "<strong>2. Blast Furnace Slag</strong>\n",
        "\n",
        "<strong>3. Fly Ash</strong>\n",
        "\n",
        "<strong>4. Water</strong>\n",
        "\n",
        "<strong>5. Superplasticizer</strong>\n",
        "\n",
        "<strong>6. Coarse Aggregate</strong>\n",
        "\n",
        "<strong>7. Fine Aggregate</strong>"
      ],
      "metadata": {
        "id": "WPS7RYv2mxNj"
      }
    },
    {
      "cell_type": "markdown",
      "source": [
        "### download the data and read it into a pandas dataframe."
      ],
      "metadata": {
        "id": "6DvtiZ3fm3EY"
      }
    },
    {
      "cell_type": "code",
      "source": [
        "concrete_data = pd.read_csv('/content/drive/MyDrive/concrete_data.csv')\n",
        "concrete_data.head()"
      ],
      "metadata": {
        "colab": {
          "base_uri": "https://localhost:8080/",
          "height": 206
        },
        "id": "hDoDA19ImEzK",
        "outputId": "6611cdfe-9c16-4061-8c0a-3d5be6b9e886"
      },
      "execution_count": 4,
      "outputs": [
        {
          "output_type": "execute_result",
          "data": {
            "text/plain": [
              "   Cement  Blast Furnace Slag  Fly Ash  Water  Superplasticizer  \\\n",
              "0   540.0                 0.0      0.0  162.0               2.5   \n",
              "1   540.0                 0.0      0.0  162.0               2.5   \n",
              "2   332.5               142.5      0.0  228.0               0.0   \n",
              "3   332.5               142.5      0.0  228.0               0.0   \n",
              "4   198.6               132.4      0.0  192.0               0.0   \n",
              "\n",
              "   Coarse Aggregate  Fine Aggregate  Age  Strength  \n",
              "0            1040.0           676.0   28     79.99  \n",
              "1            1055.0           676.0   28     61.89  \n",
              "2             932.0           594.0  270     40.27  \n",
              "3             932.0           594.0  365     41.05  \n",
              "4             978.4           825.5  360     44.30  "
            ],
            "text/html": [
              "\n",
              "  <div id=\"df-6f7a967b-1026-4e5c-9f37-514b6b947530\">\n",
              "    <div class=\"colab-df-container\">\n",
              "      <div>\n",
              "<style scoped>\n",
              "    .dataframe tbody tr th:only-of-type {\n",
              "        vertical-align: middle;\n",
              "    }\n",
              "\n",
              "    .dataframe tbody tr th {\n",
              "        vertical-align: top;\n",
              "    }\n",
              "\n",
              "    .dataframe thead th {\n",
              "        text-align: right;\n",
              "    }\n",
              "</style>\n",
              "<table border=\"1\" class=\"dataframe\">\n",
              "  <thead>\n",
              "    <tr style=\"text-align: right;\">\n",
              "      <th></th>\n",
              "      <th>Cement</th>\n",
              "      <th>Blast Furnace Slag</th>\n",
              "      <th>Fly Ash</th>\n",
              "      <th>Water</th>\n",
              "      <th>Superplasticizer</th>\n",
              "      <th>Coarse Aggregate</th>\n",
              "      <th>Fine Aggregate</th>\n",
              "      <th>Age</th>\n",
              "      <th>Strength</th>\n",
              "    </tr>\n",
              "  </thead>\n",
              "  <tbody>\n",
              "    <tr>\n",
              "      <th>0</th>\n",
              "      <td>540.0</td>\n",
              "      <td>0.0</td>\n",
              "      <td>0.0</td>\n",
              "      <td>162.0</td>\n",
              "      <td>2.5</td>\n",
              "      <td>1040.0</td>\n",
              "      <td>676.0</td>\n",
              "      <td>28</td>\n",
              "      <td>79.99</td>\n",
              "    </tr>\n",
              "    <tr>\n",
              "      <th>1</th>\n",
              "      <td>540.0</td>\n",
              "      <td>0.0</td>\n",
              "      <td>0.0</td>\n",
              "      <td>162.0</td>\n",
              "      <td>2.5</td>\n",
              "      <td>1055.0</td>\n",
              "      <td>676.0</td>\n",
              "      <td>28</td>\n",
              "      <td>61.89</td>\n",
              "    </tr>\n",
              "    <tr>\n",
              "      <th>2</th>\n",
              "      <td>332.5</td>\n",
              "      <td>142.5</td>\n",
              "      <td>0.0</td>\n",
              "      <td>228.0</td>\n",
              "      <td>0.0</td>\n",
              "      <td>932.0</td>\n",
              "      <td>594.0</td>\n",
              "      <td>270</td>\n",
              "      <td>40.27</td>\n",
              "    </tr>\n",
              "    <tr>\n",
              "      <th>3</th>\n",
              "      <td>332.5</td>\n",
              "      <td>142.5</td>\n",
              "      <td>0.0</td>\n",
              "      <td>228.0</td>\n",
              "      <td>0.0</td>\n",
              "      <td>932.0</td>\n",
              "      <td>594.0</td>\n",
              "      <td>365</td>\n",
              "      <td>41.05</td>\n",
              "    </tr>\n",
              "    <tr>\n",
              "      <th>4</th>\n",
              "      <td>198.6</td>\n",
              "      <td>132.4</td>\n",
              "      <td>0.0</td>\n",
              "      <td>192.0</td>\n",
              "      <td>0.0</td>\n",
              "      <td>978.4</td>\n",
              "      <td>825.5</td>\n",
              "      <td>360</td>\n",
              "      <td>44.30</td>\n",
              "    </tr>\n",
              "  </tbody>\n",
              "</table>\n",
              "</div>\n",
              "      <button class=\"colab-df-convert\" onclick=\"convertToInteractive('df-6f7a967b-1026-4e5c-9f37-514b6b947530')\"\n",
              "              title=\"Convert this dataframe to an interactive table.\"\n",
              "              style=\"display:none;\">\n",
              "        \n",
              "  <svg xmlns=\"http://www.w3.org/2000/svg\" height=\"24px\"viewBox=\"0 0 24 24\"\n",
              "       width=\"24px\">\n",
              "    <path d=\"M0 0h24v24H0V0z\" fill=\"none\"/>\n",
              "    <path d=\"M18.56 5.44l.94 2.06.94-2.06 2.06-.94-2.06-.94-.94-2.06-.94 2.06-2.06.94zm-11 1L8.5 8.5l.94-2.06 2.06-.94-2.06-.94L8.5 2.5l-.94 2.06-2.06.94zm10 10l.94 2.06.94-2.06 2.06-.94-2.06-.94-.94-2.06-.94 2.06-2.06.94z\"/><path d=\"M17.41 7.96l-1.37-1.37c-.4-.4-.92-.59-1.43-.59-.52 0-1.04.2-1.43.59L10.3 9.45l-7.72 7.72c-.78.78-.78 2.05 0 2.83L4 21.41c.39.39.9.59 1.41.59.51 0 1.02-.2 1.41-.59l7.78-7.78 2.81-2.81c.8-.78.8-2.07 0-2.86zM5.41 20L4 18.59l7.72-7.72 1.47 1.35L5.41 20z\"/>\n",
              "  </svg>\n",
              "      </button>\n",
              "      \n",
              "  <style>\n",
              "    .colab-df-container {\n",
              "      display:flex;\n",
              "      flex-wrap:wrap;\n",
              "      gap: 12px;\n",
              "    }\n",
              "\n",
              "    .colab-df-convert {\n",
              "      background-color: #E8F0FE;\n",
              "      border: none;\n",
              "      border-radius: 50%;\n",
              "      cursor: pointer;\n",
              "      display: none;\n",
              "      fill: #1967D2;\n",
              "      height: 32px;\n",
              "      padding: 0 0 0 0;\n",
              "      width: 32px;\n",
              "    }\n",
              "\n",
              "    .colab-df-convert:hover {\n",
              "      background-color: #E2EBFA;\n",
              "      box-shadow: 0px 1px 2px rgba(60, 64, 67, 0.3), 0px 1px 3px 1px rgba(60, 64, 67, 0.15);\n",
              "      fill: #174EA6;\n",
              "    }\n",
              "\n",
              "    [theme=dark] .colab-df-convert {\n",
              "      background-color: #3B4455;\n",
              "      fill: #D2E3FC;\n",
              "    }\n",
              "\n",
              "    [theme=dark] .colab-df-convert:hover {\n",
              "      background-color: #434B5C;\n",
              "      box-shadow: 0px 1px 3px 1px rgba(0, 0, 0, 0.15);\n",
              "      filter: drop-shadow(0px 1px 2px rgba(0, 0, 0, 0.3));\n",
              "      fill: #FFFFFF;\n",
              "    }\n",
              "  </style>\n",
              "\n",
              "      <script>\n",
              "        const buttonEl =\n",
              "          document.querySelector('#df-6f7a967b-1026-4e5c-9f37-514b6b947530 button.colab-df-convert');\n",
              "        buttonEl.style.display =\n",
              "          google.colab.kernel.accessAllowed ? 'block' : 'none';\n",
              "\n",
              "        async function convertToInteractive(key) {\n",
              "          const element = document.querySelector('#df-6f7a967b-1026-4e5c-9f37-514b6b947530');\n",
              "          const dataTable =\n",
              "            await google.colab.kernel.invokeFunction('convertToInteractive',\n",
              "                                                     [key], {});\n",
              "          if (!dataTable) return;\n",
              "\n",
              "          const docLinkHtml = 'Like what you see? Visit the ' +\n",
              "            '<a target=\"_blank\" href=https://colab.research.google.com/notebooks/data_table.ipynb>data table notebook</a>'\n",
              "            + ' to learn more about interactive tables.';\n",
              "          element.innerHTML = '';\n",
              "          dataTable['output_type'] = 'display_data';\n",
              "          await google.colab.output.renderOutput(dataTable, element);\n",
              "          const docLink = document.createElement('div');\n",
              "          docLink.innerHTML = docLinkHtml;\n",
              "          element.appendChild(docLink);\n",
              "        }\n",
              "      </script>\n",
              "    </div>\n",
              "  </div>\n",
              "  "
            ]
          },
          "metadata": {},
          "execution_count": 4
        }
      ]
    },
    {
      "cell_type": "code",
      "source": [
        "concrete_data.shape"
      ],
      "metadata": {
        "colab": {
          "base_uri": "https://localhost:8080/"
        },
        "id": "acIJ2PGomVUb",
        "outputId": "5b3a0528-233b-40e8-875a-248c48aaf21d"
      },
      "execution_count": 5,
      "outputs": [
        {
          "output_type": "execute_result",
          "data": {
            "text/plain": [
              "(1030, 9)"
            ]
          },
          "metadata": {},
          "execution_count": 5
        }
      ]
    },
    {
      "cell_type": "code",
      "source": [
        "concrete_data.describe()"
      ],
      "metadata": {
        "colab": {
          "base_uri": "https://localhost:8080/",
          "height": 300
        },
        "id": "cAkd01odm8bs",
        "outputId": "f312dbd7-9d98-4b56-ff9a-c1743a93a3c4"
      },
      "execution_count": 6,
      "outputs": [
        {
          "output_type": "execute_result",
          "data": {
            "text/plain": [
              "            Cement  Blast Furnace Slag      Fly Ash        Water  \\\n",
              "count  1030.000000         1030.000000  1030.000000  1030.000000   \n",
              "mean    281.167864           73.895825    54.188350   181.567282   \n",
              "std     104.506364           86.279342    63.997004    21.354219   \n",
              "min     102.000000            0.000000     0.000000   121.800000   \n",
              "25%     192.375000            0.000000     0.000000   164.900000   \n",
              "50%     272.900000           22.000000     0.000000   185.000000   \n",
              "75%     350.000000          142.950000   118.300000   192.000000   \n",
              "max     540.000000          359.400000   200.100000   247.000000   \n",
              "\n",
              "       Superplasticizer  Coarse Aggregate  Fine Aggregate          Age  \\\n",
              "count       1030.000000       1030.000000     1030.000000  1030.000000   \n",
              "mean           6.204660        972.918932      773.580485    45.662136   \n",
              "std            5.973841         77.753954       80.175980    63.169912   \n",
              "min            0.000000        801.000000      594.000000     1.000000   \n",
              "25%            0.000000        932.000000      730.950000     7.000000   \n",
              "50%            6.400000        968.000000      779.500000    28.000000   \n",
              "75%           10.200000       1029.400000      824.000000    56.000000   \n",
              "max           32.200000       1145.000000      992.600000   365.000000   \n",
              "\n",
              "          Strength  \n",
              "count  1030.000000  \n",
              "mean     35.817961  \n",
              "std      16.705742  \n",
              "min       2.330000  \n",
              "25%      23.710000  \n",
              "50%      34.445000  \n",
              "75%      46.135000  \n",
              "max      82.600000  "
            ],
            "text/html": [
              "\n",
              "  <div id=\"df-a9a2621d-5a5f-4f0f-b23f-ddf6997d7f0c\">\n",
              "    <div class=\"colab-df-container\">\n",
              "      <div>\n",
              "<style scoped>\n",
              "    .dataframe tbody tr th:only-of-type {\n",
              "        vertical-align: middle;\n",
              "    }\n",
              "\n",
              "    .dataframe tbody tr th {\n",
              "        vertical-align: top;\n",
              "    }\n",
              "\n",
              "    .dataframe thead th {\n",
              "        text-align: right;\n",
              "    }\n",
              "</style>\n",
              "<table border=\"1\" class=\"dataframe\">\n",
              "  <thead>\n",
              "    <tr style=\"text-align: right;\">\n",
              "      <th></th>\n",
              "      <th>Cement</th>\n",
              "      <th>Blast Furnace Slag</th>\n",
              "      <th>Fly Ash</th>\n",
              "      <th>Water</th>\n",
              "      <th>Superplasticizer</th>\n",
              "      <th>Coarse Aggregate</th>\n",
              "      <th>Fine Aggregate</th>\n",
              "      <th>Age</th>\n",
              "      <th>Strength</th>\n",
              "    </tr>\n",
              "  </thead>\n",
              "  <tbody>\n",
              "    <tr>\n",
              "      <th>count</th>\n",
              "      <td>1030.000000</td>\n",
              "      <td>1030.000000</td>\n",
              "      <td>1030.000000</td>\n",
              "      <td>1030.000000</td>\n",
              "      <td>1030.000000</td>\n",
              "      <td>1030.000000</td>\n",
              "      <td>1030.000000</td>\n",
              "      <td>1030.000000</td>\n",
              "      <td>1030.000000</td>\n",
              "    </tr>\n",
              "    <tr>\n",
              "      <th>mean</th>\n",
              "      <td>281.167864</td>\n",
              "      <td>73.895825</td>\n",
              "      <td>54.188350</td>\n",
              "      <td>181.567282</td>\n",
              "      <td>6.204660</td>\n",
              "      <td>972.918932</td>\n",
              "      <td>773.580485</td>\n",
              "      <td>45.662136</td>\n",
              "      <td>35.817961</td>\n",
              "    </tr>\n",
              "    <tr>\n",
              "      <th>std</th>\n",
              "      <td>104.506364</td>\n",
              "      <td>86.279342</td>\n",
              "      <td>63.997004</td>\n",
              "      <td>21.354219</td>\n",
              "      <td>5.973841</td>\n",
              "      <td>77.753954</td>\n",
              "      <td>80.175980</td>\n",
              "      <td>63.169912</td>\n",
              "      <td>16.705742</td>\n",
              "    </tr>\n",
              "    <tr>\n",
              "      <th>min</th>\n",
              "      <td>102.000000</td>\n",
              "      <td>0.000000</td>\n",
              "      <td>0.000000</td>\n",
              "      <td>121.800000</td>\n",
              "      <td>0.000000</td>\n",
              "      <td>801.000000</td>\n",
              "      <td>594.000000</td>\n",
              "      <td>1.000000</td>\n",
              "      <td>2.330000</td>\n",
              "    </tr>\n",
              "    <tr>\n",
              "      <th>25%</th>\n",
              "      <td>192.375000</td>\n",
              "      <td>0.000000</td>\n",
              "      <td>0.000000</td>\n",
              "      <td>164.900000</td>\n",
              "      <td>0.000000</td>\n",
              "      <td>932.000000</td>\n",
              "      <td>730.950000</td>\n",
              "      <td>7.000000</td>\n",
              "      <td>23.710000</td>\n",
              "    </tr>\n",
              "    <tr>\n",
              "      <th>50%</th>\n",
              "      <td>272.900000</td>\n",
              "      <td>22.000000</td>\n",
              "      <td>0.000000</td>\n",
              "      <td>185.000000</td>\n",
              "      <td>6.400000</td>\n",
              "      <td>968.000000</td>\n",
              "      <td>779.500000</td>\n",
              "      <td>28.000000</td>\n",
              "      <td>34.445000</td>\n",
              "    </tr>\n",
              "    <tr>\n",
              "      <th>75%</th>\n",
              "      <td>350.000000</td>\n",
              "      <td>142.950000</td>\n",
              "      <td>118.300000</td>\n",
              "      <td>192.000000</td>\n",
              "      <td>10.200000</td>\n",
              "      <td>1029.400000</td>\n",
              "      <td>824.000000</td>\n",
              "      <td>56.000000</td>\n",
              "      <td>46.135000</td>\n",
              "    </tr>\n",
              "    <tr>\n",
              "      <th>max</th>\n",
              "      <td>540.000000</td>\n",
              "      <td>359.400000</td>\n",
              "      <td>200.100000</td>\n",
              "      <td>247.000000</td>\n",
              "      <td>32.200000</td>\n",
              "      <td>1145.000000</td>\n",
              "      <td>992.600000</td>\n",
              "      <td>365.000000</td>\n",
              "      <td>82.600000</td>\n",
              "    </tr>\n",
              "  </tbody>\n",
              "</table>\n",
              "</div>\n",
              "      <button class=\"colab-df-convert\" onclick=\"convertToInteractive('df-a9a2621d-5a5f-4f0f-b23f-ddf6997d7f0c')\"\n",
              "              title=\"Convert this dataframe to an interactive table.\"\n",
              "              style=\"display:none;\">\n",
              "        \n",
              "  <svg xmlns=\"http://www.w3.org/2000/svg\" height=\"24px\"viewBox=\"0 0 24 24\"\n",
              "       width=\"24px\">\n",
              "    <path d=\"M0 0h24v24H0V0z\" fill=\"none\"/>\n",
              "    <path d=\"M18.56 5.44l.94 2.06.94-2.06 2.06-.94-2.06-.94-.94-2.06-.94 2.06-2.06.94zm-11 1L8.5 8.5l.94-2.06 2.06-.94-2.06-.94L8.5 2.5l-.94 2.06-2.06.94zm10 10l.94 2.06.94-2.06 2.06-.94-2.06-.94-.94-2.06-.94 2.06-2.06.94z\"/><path d=\"M17.41 7.96l-1.37-1.37c-.4-.4-.92-.59-1.43-.59-.52 0-1.04.2-1.43.59L10.3 9.45l-7.72 7.72c-.78.78-.78 2.05 0 2.83L4 21.41c.39.39.9.59 1.41.59.51 0 1.02-.2 1.41-.59l7.78-7.78 2.81-2.81c.8-.78.8-2.07 0-2.86zM5.41 20L4 18.59l7.72-7.72 1.47 1.35L5.41 20z\"/>\n",
              "  </svg>\n",
              "      </button>\n",
              "      \n",
              "  <style>\n",
              "    .colab-df-container {\n",
              "      display:flex;\n",
              "      flex-wrap:wrap;\n",
              "      gap: 12px;\n",
              "    }\n",
              "\n",
              "    .colab-df-convert {\n",
              "      background-color: #E8F0FE;\n",
              "      border: none;\n",
              "      border-radius: 50%;\n",
              "      cursor: pointer;\n",
              "      display: none;\n",
              "      fill: #1967D2;\n",
              "      height: 32px;\n",
              "      padding: 0 0 0 0;\n",
              "      width: 32px;\n",
              "    }\n",
              "\n",
              "    .colab-df-convert:hover {\n",
              "      background-color: #E2EBFA;\n",
              "      box-shadow: 0px 1px 2px rgba(60, 64, 67, 0.3), 0px 1px 3px 1px rgba(60, 64, 67, 0.15);\n",
              "      fill: #174EA6;\n",
              "    }\n",
              "\n",
              "    [theme=dark] .colab-df-convert {\n",
              "      background-color: #3B4455;\n",
              "      fill: #D2E3FC;\n",
              "    }\n",
              "\n",
              "    [theme=dark] .colab-df-convert:hover {\n",
              "      background-color: #434B5C;\n",
              "      box-shadow: 0px 1px 3px 1px rgba(0, 0, 0, 0.15);\n",
              "      filter: drop-shadow(0px 1px 2px rgba(0, 0, 0, 0.3));\n",
              "      fill: #FFFFFF;\n",
              "    }\n",
              "  </style>\n",
              "\n",
              "      <script>\n",
              "        const buttonEl =\n",
              "          document.querySelector('#df-a9a2621d-5a5f-4f0f-b23f-ddf6997d7f0c button.colab-df-convert');\n",
              "        buttonEl.style.display =\n",
              "          google.colab.kernel.accessAllowed ? 'block' : 'none';\n",
              "\n",
              "        async function convertToInteractive(key) {\n",
              "          const element = document.querySelector('#df-a9a2621d-5a5f-4f0f-b23f-ddf6997d7f0c');\n",
              "          const dataTable =\n",
              "            await google.colab.kernel.invokeFunction('convertToInteractive',\n",
              "                                                     [key], {});\n",
              "          if (!dataTable) return;\n",
              "\n",
              "          const docLinkHtml = 'Like what you see? Visit the ' +\n",
              "            '<a target=\"_blank\" href=https://colab.research.google.com/notebooks/data_table.ipynb>data table notebook</a>'\n",
              "            + ' to learn more about interactive tables.';\n",
              "          element.innerHTML = '';\n",
              "          dataTable['output_type'] = 'display_data';\n",
              "          await google.colab.output.renderOutput(dataTable, element);\n",
              "          const docLink = document.createElement('div');\n",
              "          docLink.innerHTML = docLinkHtml;\n",
              "          element.appendChild(docLink);\n",
              "        }\n",
              "      </script>\n",
              "    </div>\n",
              "  </div>\n",
              "  "
            ]
          },
          "metadata": {},
          "execution_count": 6
        }
      ]
    },
    {
      "cell_type": "code",
      "source": [
        "concrete_data.isnull().sum()"
      ],
      "metadata": {
        "colab": {
          "base_uri": "https://localhost:8080/"
        },
        "id": "fyyYb08Wm-fC",
        "outputId": "4fe01264-f208-4240-ffb7-5464abe4f3f0"
      },
      "execution_count": 7,
      "outputs": [
        {
          "output_type": "execute_result",
          "data": {
            "text/plain": [
              "Cement                0\n",
              "Blast Furnace Slag    0\n",
              "Fly Ash               0\n",
              "Water                 0\n",
              "Superplasticizer      0\n",
              "Coarse Aggregate      0\n",
              "Fine Aggregate        0\n",
              "Age                   0\n",
              "Strength              0\n",
              "dtype: int64"
            ]
          },
          "metadata": {},
          "execution_count": 7
        }
      ]
    },
    {
      "cell_type": "markdown",
      "source": [
        "## A. Build a baseline model (5 marks) \n",
        "\n",
        "Use the Keras library to build a neural network with the following:\n",
        "\n",
        "- One hidden layer of 10 nodes, and a ReLU activation function\n",
        "\n",
        "- Use the adam optimizer and the mean squared error  as the loss function.\n",
        "\n",
        "1. Randomly split the data into a training and test sets by holding 30% of the data for testing. You can use the train_test_splithelper function from Scikit-learn.\n",
        "\n",
        "2. Train the model on the training data using 50 epochs.\n",
        "\n",
        "3. Evaluate the model on the test data and compute the mean squared error between the predicted concrete strength and the actual concrete strength. You can use the mean_squared_error function from Scikit-learn.\n",
        "\n",
        "4. Repeat steps 1 - 3, 50 times, i.e., create a list of 50 mean squared errors.\n",
        "\n",
        "5. Report the mean and the standard deviation of the mean squared errors.\n",
        "\n",
        "Submit your Jupyter Notebook with your code and comments.\n"
      ],
      "metadata": {
        "id": "zcQVKQeYyaLb"
      }
    },
    {
      "cell_type": "markdown",
      "source": [
        "### Split dataset"
      ],
      "metadata": {
        "id": "8A8r-yFznCsB"
      }
    },
    {
      "cell_type": "code",
      "source": [
        "from sklearn.model_selection import train_test_split\n",
        "\n",
        "concrete_data_columns = concrete_data.columns\n",
        "x = concrete_data[concrete_data_columns[concrete_data_columns != 'Strength']] \n",
        "y = concrete_data['Strength']\n",
        "\n",
        "x_train, x_test, y_train, y_test = train_test_split(x, y, test_size = 0.3, random_state = 42)"
      ],
      "metadata": {
        "id": "kRLmXsg0nALA"
      },
      "execution_count": 8,
      "outputs": []
    },
    {
      "cell_type": "code",
      "source": [
        "n_cols = x.shape[1]\n",
        "n_cols"
      ],
      "metadata": {
        "id": "b5ib0eDyyqpD",
        "colab": {
          "base_uri": "https://localhost:8080/"
        },
        "outputId": "00e26680-8506-4b49-afd1-53214c058b82"
      },
      "execution_count": 13,
      "outputs": [
        {
          "output_type": "execute_result",
          "data": {
            "text/plain": [
              "8"
            ]
          },
          "metadata": {},
          "execution_count": 13
        }
      ]
    },
    {
      "cell_type": "code",
      "source": [
        "x_train.head()"
      ],
      "metadata": {
        "colab": {
          "base_uri": "https://localhost:8080/",
          "height": 206
        },
        "id": "y-ehPrlJrrfJ",
        "outputId": "1fd7c735-7266-4756-d238-c94e20279106"
      },
      "execution_count": 14,
      "outputs": [
        {
          "output_type": "execute_result",
          "data": {
            "text/plain": [
              "     Cement  Blast Furnace Slag  Fly Ash  Water  Superplasticizer  \\\n",
              "196   194.7                 0.0    100.5  165.6               7.5   \n",
              "631   325.0                 0.0      0.0  184.0               0.0   \n",
              "81    318.8               212.5      0.0  155.7              14.3   \n",
              "526   359.0                19.0    141.0  154.0              10.9   \n",
              "830   162.0               190.0    148.0  179.0              19.0   \n",
              "\n",
              "     Coarse Aggregate  Fine Aggregate  Age  \n",
              "196            1006.4           905.9   28  \n",
              "631            1063.0           783.0    7  \n",
              "81              852.1           880.4    3  \n",
              "526             942.0           801.0    3  \n",
              "830             838.0           741.0   28  "
            ],
            "text/html": [
              "\n",
              "  <div id=\"df-e9c37382-6059-42a9-9f6a-c76fdc88a966\">\n",
              "    <div class=\"colab-df-container\">\n",
              "      <div>\n",
              "<style scoped>\n",
              "    .dataframe tbody tr th:only-of-type {\n",
              "        vertical-align: middle;\n",
              "    }\n",
              "\n",
              "    .dataframe tbody tr th {\n",
              "        vertical-align: top;\n",
              "    }\n",
              "\n",
              "    .dataframe thead th {\n",
              "        text-align: right;\n",
              "    }\n",
              "</style>\n",
              "<table border=\"1\" class=\"dataframe\">\n",
              "  <thead>\n",
              "    <tr style=\"text-align: right;\">\n",
              "      <th></th>\n",
              "      <th>Cement</th>\n",
              "      <th>Blast Furnace Slag</th>\n",
              "      <th>Fly Ash</th>\n",
              "      <th>Water</th>\n",
              "      <th>Superplasticizer</th>\n",
              "      <th>Coarse Aggregate</th>\n",
              "      <th>Fine Aggregate</th>\n",
              "      <th>Age</th>\n",
              "    </tr>\n",
              "  </thead>\n",
              "  <tbody>\n",
              "    <tr>\n",
              "      <th>196</th>\n",
              "      <td>194.7</td>\n",
              "      <td>0.0</td>\n",
              "      <td>100.5</td>\n",
              "      <td>165.6</td>\n",
              "      <td>7.5</td>\n",
              "      <td>1006.4</td>\n",
              "      <td>905.9</td>\n",
              "      <td>28</td>\n",
              "    </tr>\n",
              "    <tr>\n",
              "      <th>631</th>\n",
              "      <td>325.0</td>\n",
              "      <td>0.0</td>\n",
              "      <td>0.0</td>\n",
              "      <td>184.0</td>\n",
              "      <td>0.0</td>\n",
              "      <td>1063.0</td>\n",
              "      <td>783.0</td>\n",
              "      <td>7</td>\n",
              "    </tr>\n",
              "    <tr>\n",
              "      <th>81</th>\n",
              "      <td>318.8</td>\n",
              "      <td>212.5</td>\n",
              "      <td>0.0</td>\n",
              "      <td>155.7</td>\n",
              "      <td>14.3</td>\n",
              "      <td>852.1</td>\n",
              "      <td>880.4</td>\n",
              "      <td>3</td>\n",
              "    </tr>\n",
              "    <tr>\n",
              "      <th>526</th>\n",
              "      <td>359.0</td>\n",
              "      <td>19.0</td>\n",
              "      <td>141.0</td>\n",
              "      <td>154.0</td>\n",
              "      <td>10.9</td>\n",
              "      <td>942.0</td>\n",
              "      <td>801.0</td>\n",
              "      <td>3</td>\n",
              "    </tr>\n",
              "    <tr>\n",
              "      <th>830</th>\n",
              "      <td>162.0</td>\n",
              "      <td>190.0</td>\n",
              "      <td>148.0</td>\n",
              "      <td>179.0</td>\n",
              "      <td>19.0</td>\n",
              "      <td>838.0</td>\n",
              "      <td>741.0</td>\n",
              "      <td>28</td>\n",
              "    </tr>\n",
              "  </tbody>\n",
              "</table>\n",
              "</div>\n",
              "      <button class=\"colab-df-convert\" onclick=\"convertToInteractive('df-e9c37382-6059-42a9-9f6a-c76fdc88a966')\"\n",
              "              title=\"Convert this dataframe to an interactive table.\"\n",
              "              style=\"display:none;\">\n",
              "        \n",
              "  <svg xmlns=\"http://www.w3.org/2000/svg\" height=\"24px\"viewBox=\"0 0 24 24\"\n",
              "       width=\"24px\">\n",
              "    <path d=\"M0 0h24v24H0V0z\" fill=\"none\"/>\n",
              "    <path d=\"M18.56 5.44l.94 2.06.94-2.06 2.06-.94-2.06-.94-.94-2.06-.94 2.06-2.06.94zm-11 1L8.5 8.5l.94-2.06 2.06-.94-2.06-.94L8.5 2.5l-.94 2.06-2.06.94zm10 10l.94 2.06.94-2.06 2.06-.94-2.06-.94-.94-2.06-.94 2.06-2.06.94z\"/><path d=\"M17.41 7.96l-1.37-1.37c-.4-.4-.92-.59-1.43-.59-.52 0-1.04.2-1.43.59L10.3 9.45l-7.72 7.72c-.78.78-.78 2.05 0 2.83L4 21.41c.39.39.9.59 1.41.59.51 0 1.02-.2 1.41-.59l7.78-7.78 2.81-2.81c.8-.78.8-2.07 0-2.86zM5.41 20L4 18.59l7.72-7.72 1.47 1.35L5.41 20z\"/>\n",
              "  </svg>\n",
              "      </button>\n",
              "      \n",
              "  <style>\n",
              "    .colab-df-container {\n",
              "      display:flex;\n",
              "      flex-wrap:wrap;\n",
              "      gap: 12px;\n",
              "    }\n",
              "\n",
              "    .colab-df-convert {\n",
              "      background-color: #E8F0FE;\n",
              "      border: none;\n",
              "      border-radius: 50%;\n",
              "      cursor: pointer;\n",
              "      display: none;\n",
              "      fill: #1967D2;\n",
              "      height: 32px;\n",
              "      padding: 0 0 0 0;\n",
              "      width: 32px;\n",
              "    }\n",
              "\n",
              "    .colab-df-convert:hover {\n",
              "      background-color: #E2EBFA;\n",
              "      box-shadow: 0px 1px 2px rgba(60, 64, 67, 0.3), 0px 1px 3px 1px rgba(60, 64, 67, 0.15);\n",
              "      fill: #174EA6;\n",
              "    }\n",
              "\n",
              "    [theme=dark] .colab-df-convert {\n",
              "      background-color: #3B4455;\n",
              "      fill: #D2E3FC;\n",
              "    }\n",
              "\n",
              "    [theme=dark] .colab-df-convert:hover {\n",
              "      background-color: #434B5C;\n",
              "      box-shadow: 0px 1px 3px 1px rgba(0, 0, 0, 0.15);\n",
              "      filter: drop-shadow(0px 1px 2px rgba(0, 0, 0, 0.3));\n",
              "      fill: #FFFFFF;\n",
              "    }\n",
              "  </style>\n",
              "\n",
              "      <script>\n",
              "        const buttonEl =\n",
              "          document.querySelector('#df-e9c37382-6059-42a9-9f6a-c76fdc88a966 button.colab-df-convert');\n",
              "        buttonEl.style.display =\n",
              "          google.colab.kernel.accessAllowed ? 'block' : 'none';\n",
              "\n",
              "        async function convertToInteractive(key) {\n",
              "          const element = document.querySelector('#df-e9c37382-6059-42a9-9f6a-c76fdc88a966');\n",
              "          const dataTable =\n",
              "            await google.colab.kernel.invokeFunction('convertToInteractive',\n",
              "                                                     [key], {});\n",
              "          if (!dataTable) return;\n",
              "\n",
              "          const docLinkHtml = 'Like what you see? Visit the ' +\n",
              "            '<a target=\"_blank\" href=https://colab.research.google.com/notebooks/data_table.ipynb>data table notebook</a>'\n",
              "            + ' to learn more about interactive tables.';\n",
              "          element.innerHTML = '';\n",
              "          dataTable['output_type'] = 'display_data';\n",
              "          await google.colab.output.renderOutput(dataTable, element);\n",
              "          const docLink = document.createElement('div');\n",
              "          docLink.innerHTML = docLinkHtml;\n",
              "          element.appendChild(docLink);\n",
              "        }\n",
              "      </script>\n",
              "    </div>\n",
              "  </div>\n",
              "  "
            ]
          },
          "metadata": {},
          "execution_count": 14
        }
      ]
    },
    {
      "cell_type": "code",
      "source": [
        "y_train.head()"
      ],
      "metadata": {
        "colab": {
          "base_uri": "https://localhost:8080/"
        },
        "id": "YrJASirtrxuo",
        "outputId": "ef3cf48c-3fe0-493b-b2cd-81b331e5d48d"
      },
      "execution_count": 15,
      "outputs": [
        {
          "output_type": "execute_result",
          "data": {
            "text/plain": [
              "196    25.72\n",
              "631    17.54\n",
              "81     25.20\n",
              "526    23.64\n",
              "830    33.76\n",
              "Name: Strength, dtype: float64"
            ]
          },
          "metadata": {},
          "execution_count": 15
        }
      ]
    },
    {
      "cell_type": "code",
      "source": [
        "# define regression model\n",
        "def reg_model1():\n",
        "    # create model\n",
        "    model = Sequential()\n",
        "    model.add(Dense(10, activation='relu', input_shape=(n_cols,)))\n",
        "    model.add(Dense(1))\n",
        "    \n",
        "    # compile model\n",
        "    model.compile(optimizer='adam', loss='mean_squared_error')\n",
        "    return model"
      ],
      "metadata": {
        "id": "YRUfRIBExgy0"
      },
      "execution_count": 16,
      "outputs": []
    },
    {
      "cell_type": "code",
      "source": [
        "#tf.compat.v1.get_default_graph "
      ],
      "metadata": {
        "id": "kK8rf4I_7Bem"
      },
      "execution_count": 17,
      "outputs": []
    },
    {
      "cell_type": "code",
      "source": [
        "model = reg_model1()"
      ],
      "metadata": {
        "id": "0eeefglGzBAO"
      },
      "execution_count": 18,
      "outputs": []
    },
    {
      "cell_type": "code",
      "source": [
        "# fit the model\n",
        "model.fit(x_train, y_train, validation_split=0.3, epochs=50, verbose=1)"
      ],
      "metadata": {
        "id": "SoVwkvTg0Taw",
        "colab": {
          "base_uri": "https://localhost:8080/"
        },
        "outputId": "b41b1d04-aedd-4c34-b1b9-baec91ecf210"
      },
      "execution_count": 19,
      "outputs": [
        {
          "output_type": "stream",
          "name": "stdout",
          "text": [
            "Epoch 1/50\n",
            "16/16 [==============================] - 1s 14ms/step - loss: 312819.7500 - val_loss: 246239.1562\n",
            "Epoch 2/50\n",
            "16/16 [==============================] - 0s 3ms/step - loss: 213591.4219 - val_loss: 162981.8438\n",
            "Epoch 3/50\n",
            "16/16 [==============================] - 0s 4ms/step - loss: 139615.8750 - val_loss: 102811.0312\n",
            "Epoch 4/50\n",
            "16/16 [==============================] - 0s 4ms/step - loss: 87250.0859 - val_loss: 61240.2891\n",
            "Epoch 5/50\n",
            "16/16 [==============================] - 0s 3ms/step - loss: 51606.7266 - val_loss: 34685.4336\n",
            "Epoch 6/50\n",
            "16/16 [==============================] - 0s 3ms/step - loss: 29573.8516 - val_loss: 18910.1523\n",
            "Epoch 7/50\n",
            "16/16 [==============================] - 0s 3ms/step - loss: 16974.8418 - val_loss: 10715.8672\n",
            "Epoch 8/50\n",
            "16/16 [==============================] - 0s 3ms/step - loss: 10540.2852 - val_loss: 7085.4541\n",
            "Epoch 9/50\n",
            "16/16 [==============================] - 0s 3ms/step - loss: 7721.8877 - val_loss: 5689.2295\n",
            "Epoch 10/50\n",
            "16/16 [==============================] - 0s 3ms/step - loss: 6626.4492 - val_loss: 5205.4170\n",
            "Epoch 11/50\n",
            "16/16 [==============================] - 0s 3ms/step - loss: 6139.5098 - val_loss: 5005.4077\n",
            "Epoch 12/50\n",
            "16/16 [==============================] - 0s 3ms/step - loss: 5878.9663 - val_loss: 4821.1177\n",
            "Epoch 13/50\n",
            "16/16 [==============================] - 0s 4ms/step - loss: 5645.0708 - val_loss: 4628.4390\n",
            "Epoch 14/50\n",
            "16/16 [==============================] - 0s 3ms/step - loss: 5395.1890 - val_loss: 4430.1870\n",
            "Epoch 15/50\n",
            "16/16 [==============================] - 0s 3ms/step - loss: 5124.3711 - val_loss: 4141.5171\n",
            "Epoch 16/50\n",
            "16/16 [==============================] - 0s 4ms/step - loss: 4680.6538 - val_loss: 3632.1040\n",
            "Epoch 17/50\n",
            "16/16 [==============================] - 0s 4ms/step - loss: 4009.5688 - val_loss: 2961.5034\n",
            "Epoch 18/50\n",
            "16/16 [==============================] - 0s 3ms/step - loss: 3344.4919 - val_loss: 2530.6965\n",
            "Epoch 19/50\n",
            "16/16 [==============================] - 0s 4ms/step - loss: 2908.1768 - val_loss: 2209.5098\n",
            "Epoch 20/50\n",
            "16/16 [==============================] - 0s 3ms/step - loss: 2501.8440 - val_loss: 1898.7703\n",
            "Epoch 21/50\n",
            "16/16 [==============================] - 0s 3ms/step - loss: 2146.4155 - val_loss: 1637.7086\n",
            "Epoch 22/50\n",
            "16/16 [==============================] - 0s 3ms/step - loss: 1852.4728 - val_loss: 1412.3396\n",
            "Epoch 23/50\n",
            "16/16 [==============================] - 0s 4ms/step - loss: 1602.7094 - val_loss: 1233.8950\n",
            "Epoch 24/50\n",
            "16/16 [==============================] - 0s 3ms/step - loss: 1408.8593 - val_loss: 1083.8384\n",
            "Epoch 25/50\n",
            "16/16 [==============================] - 0s 4ms/step - loss: 1239.4200 - val_loss: 967.6241\n",
            "Epoch 26/50\n",
            "16/16 [==============================] - 0s 3ms/step - loss: 1111.0287 - val_loss: 868.2999\n",
            "Epoch 27/50\n",
            "16/16 [==============================] - 0s 3ms/step - loss: 1005.1783 - val_loss: 789.9285\n",
            "Epoch 28/50\n",
            "16/16 [==============================] - 0s 4ms/step - loss: 911.1187 - val_loss: 728.2599\n",
            "Epoch 29/50\n",
            "16/16 [==============================] - 0s 3ms/step - loss: 841.0194 - val_loss: 676.8621\n",
            "Epoch 30/50\n",
            "16/16 [==============================] - 0s 4ms/step - loss: 781.8298 - val_loss: 634.5573\n",
            "Epoch 31/50\n",
            "16/16 [==============================] - 0s 3ms/step - loss: 737.3011 - val_loss: 600.3907\n",
            "Epoch 32/50\n",
            "16/16 [==============================] - 0s 4ms/step - loss: 691.3606 - val_loss: 567.7029\n",
            "Epoch 33/50\n",
            "16/16 [==============================] - 0s 4ms/step - loss: 654.2647 - val_loss: 542.9958\n",
            "Epoch 34/50\n",
            "16/16 [==============================] - 0s 4ms/step - loss: 623.6442 - val_loss: 520.4691\n",
            "Epoch 35/50\n",
            "16/16 [==============================] - 0s 4ms/step - loss: 597.8005 - val_loss: 503.8462\n",
            "Epoch 36/50\n",
            "16/16 [==============================] - 0s 3ms/step - loss: 571.7686 - val_loss: 482.8646\n",
            "Epoch 37/50\n",
            "16/16 [==============================] - 0s 4ms/step - loss: 550.9066 - val_loss: 466.6586\n",
            "Epoch 38/50\n",
            "16/16 [==============================] - 0s 3ms/step - loss: 529.5880 - val_loss: 451.1930\n",
            "Epoch 39/50\n",
            "16/16 [==============================] - 0s 3ms/step - loss: 512.6639 - val_loss: 436.7639\n",
            "Epoch 40/50\n",
            "16/16 [==============================] - 0s 3ms/step - loss: 494.0418 - val_loss: 425.2047\n",
            "Epoch 41/50\n",
            "16/16 [==============================] - 0s 3ms/step - loss: 484.8699 - val_loss: 411.5339\n",
            "Epoch 42/50\n",
            "16/16 [==============================] - 0s 3ms/step - loss: 471.3182 - val_loss: 399.7217\n",
            "Epoch 43/50\n",
            "16/16 [==============================] - 0s 4ms/step - loss: 448.6300 - val_loss: 387.8908\n",
            "Epoch 44/50\n",
            "16/16 [==============================] - 0s 4ms/step - loss: 434.3934 - val_loss: 377.7204\n",
            "Epoch 45/50\n",
            "16/16 [==============================] - 0s 4ms/step - loss: 421.2097 - val_loss: 367.8630\n",
            "Epoch 46/50\n",
            "16/16 [==============================] - 0s 4ms/step - loss: 410.3954 - val_loss: 360.0315\n",
            "Epoch 47/50\n",
            "16/16 [==============================] - 0s 4ms/step - loss: 403.9392 - val_loss: 348.3692\n",
            "Epoch 48/50\n",
            "16/16 [==============================] - 0s 4ms/step - loss: 387.7425 - val_loss: 340.3588\n",
            "Epoch 49/50\n",
            "16/16 [==============================] - 0s 4ms/step - loss: 373.8008 - val_loss: 330.2001\n",
            "Epoch 50/50\n",
            "16/16 [==============================] - 0s 4ms/step - loss: 362.9137 - val_loss: 322.6892\n"
          ]
        },
        {
          "output_type": "execute_result",
          "data": {
            "text/plain": [
              "<keras.callbacks.History at 0x7fc456670b10>"
            ]
          },
          "metadata": {},
          "execution_count": 19
        }
      ]
    },
    {
      "cell_type": "code",
      "source": [
        "# Evaluate the model on the test data using 'evaluate'\n",
        "print(\"Evaluate on test data\")\n",
        "results = model.evaluate(x_test, y_test)\n",
        "print(\"test loss : \", results)\n",
        "\n",
        "y_pred = model.predict(x_test)\n",
        "print(\"prediction shape:\", y_pred.shape)"
      ],
      "metadata": {
        "colab": {
          "base_uri": "https://localhost:8080/"
        },
        "id": "H4fDtd_bnsaz",
        "outputId": "c8f8628a-7b0b-482d-83a9-d5b078b284ff"
      },
      "execution_count": 20,
      "outputs": [
        {
          "output_type": "stream",
          "name": "stdout",
          "text": [
            "Evaluate on test data\n",
            "10/10 [==============================] - 0s 1ms/step - loss: 364.6763\n",
            "test loss :  364.67626953125\n",
            "prediction shape: (309, 1)\n"
          ]
        }
      ]
    },
    {
      "cell_type": "code",
      "source": [
        "from sklearn.metrics import mean_squared_error\n",
        "\n",
        "mse = mean_squared_error(y_test, y_pred)\n",
        "sd_mse = np.std(mse)\n",
        "print(mse, sd_mse)"
      ],
      "metadata": {
        "colab": {
          "base_uri": "https://localhost:8080/"
        },
        "id": "wrBBKcAnvDmK",
        "outputId": "db40affb-35f1-4583-97f7-e03a5c811f32"
      },
      "execution_count": 21,
      "outputs": [
        {
          "output_type": "stream",
          "name": "stdout",
          "text": [
            "364.67621631168714 0.0\n"
          ]
        }
      ]
    },
    {
      "cell_type": "code",
      "source": [
        "times = 50\n",
        "epochs = 50\n",
        "mse_list = []\n",
        "\n",
        "for i in range(1, times+1) : \n",
        "  x_train, x_test, y_train, y_test = train_test_split(x, y, test_size = 0.3, random_state = 42)\n",
        "  model.fit(x_train, y_train, validation_split=0.3, epochs=epochs, verbose=0)\n",
        "  results = model.evaluate(x_test, y_test, verbose=0)\n",
        "  print(\"MSE {} : {}\".format(i,results))\n",
        "  y_pred = model.predict(x_test)\n",
        "  mse = mean_squared_error(y_test, y_pred)\n",
        "  mse_list.append(mse)\n",
        "\n",
        "mse_list = np.array(mse_list)\n",
        "mean_mse_list = np.mean(mse_list)\n",
        "sd_mse_list = np.std(mse_list)\n",
        "\n",
        "print(\"Results(Question A : Without Normalization) :\", \"\\n\")\n",
        "print(\"Mean of 50 MSEs: {}\".format(mean_mse_list))\n",
        "print(\"Standard deviation of 50 MSEs : {}\".format(sd_mse_list))"
      ],
      "metadata": {
        "colab": {
          "base_uri": "https://localhost:8080/"
        },
        "id": "ZGWCKwnDyYKQ",
        "outputId": "7f7f8196-87e4-47cc-cb50-7c94c8793de1"
      },
      "execution_count": 22,
      "outputs": [
        {
          "output_type": "stream",
          "name": "stdout",
          "text": [
            "MSE 1 : 136.00015258789062\n",
            "MSE 2 : 78.24777221679688\n",
            "MSE 3 : 72.0493392944336\n",
            "MSE 4 : 66.1751708984375\n",
            "MSE 5 : 59.93763732910156\n",
            "MSE 6 : 56.49705505371094\n",
            "MSE 7 : 53.183563232421875\n",
            "MSE 8 : 52.256591796875\n",
            "MSE 9 : 49.390140533447266\n",
            "MSE 10 : 55.85447692871094\n",
            "MSE 11 : 60.67856979370117\n",
            "MSE 12 : 52.91934585571289\n",
            "MSE 13 : 47.985015869140625\n",
            "MSE 14 : 64.77572631835938\n",
            "MSE 15 : 52.121856689453125\n",
            "MSE 16 : 74.45232391357422\n",
            "MSE 17 : 50.23686981201172\n",
            "MSE 18 : 51.21064376831055\n",
            "MSE 19 : 51.195594787597656\n",
            "MSE 20 : 51.11358642578125\n",
            "MSE 21 : 49.66397476196289\n",
            "MSE 22 : 50.13877487182617\n",
            "MSE 23 : 50.072025299072266\n",
            "MSE 24 : 49.182952880859375\n",
            "MSE 25 : 48.869850158691406\n",
            "MSE 26 : 51.500762939453125\n",
            "MSE 27 : 48.730812072753906\n",
            "MSE 28 : 57.98074722290039\n",
            "MSE 29 : 50.429935455322266\n",
            "MSE 30 : 48.6087760925293\n",
            "MSE 31 : 48.78319549560547\n",
            "MSE 32 : 61.49333953857422\n",
            "MSE 33 : 55.181785583496094\n",
            "MSE 34 : 49.357444763183594\n",
            "MSE 35 : 52.519771575927734\n",
            "MSE 36 : 50.4306640625\n",
            "MSE 37 : 48.66603469848633\n",
            "MSE 38 : 47.598915100097656\n",
            "MSE 39 : 48.10736846923828\n",
            "MSE 40 : 46.666133880615234\n",
            "MSE 41 : 51.589107513427734\n",
            "MSE 42 : 47.612213134765625\n",
            "MSE 43 : 48.572532653808594\n",
            "MSE 44 : 46.826351165771484\n",
            "MSE 45 : 53.64013671875\n",
            "MSE 46 : 52.492706298828125\n",
            "MSE 47 : 55.02932357788086\n",
            "MSE 48 : 50.28988265991211\n",
            "MSE 49 : 48.44623565673828\n",
            "MSE 50 : 46.34086608886719\n",
            "Results(Question A : Without Normalization) : \n",
            "\n",
            "Mean of 50 MSEs: 55.022081724290985\n",
            "Standard deviation of 50 MSEs : 13.539168764434484\n"
          ]
        }
      ]
    },
    {
      "cell_type": "code",
      "source": [
        ""
      ],
      "metadata": {
        "id": "elQfCU5r37e5"
      },
      "execution_count": null,
      "outputs": []
    }
  ]
}